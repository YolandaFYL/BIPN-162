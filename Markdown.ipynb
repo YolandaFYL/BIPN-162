{
 "cells": [
  {
   "cell_type": "markdown",
   "id": "7be4eb72",
   "metadata": {},
   "source": [
    "# Final Project  \n",
    "##### BIPN 162 Neural Data Science  \n",
    "**Alyssa Do (A17666084), Nicole Hang (A17271473), Yolanda Feng (A17466227)**"
   ]
  },
  {
   "cell_type": "markdown",
   "id": "4f191167",
   "metadata": {},
   "source": [
    "## I. Overview / Abstract\n",
    "\n",
    "What does joy look like in the brain? Or fear? Or the quiet tension of holding a thought in mind?  \n",
    "In this project, we track neural signals over time and across tasks—from monkeys judging fingertip vibrations to humans watching emotionally charged film clips.\n",
    "\n",
    "To make sense of this complexity, we use **demixed principal component analysis (dPCA)**, a method designed to untangle the mixed signals of neural population activity.  \n",
    "We begin by replicating findings from *Kobak et al. (2016)* using data from a monkey working memory task (*Romo et al., 1999*), then turn to the human brain, applying dPCA to intracranial recordings collected during an emotional memory task involving evocative film scenes (*Fetterhoff et al., 2024*).\n",
    "\n",
    "From decision-making to raw emotional experience, our results show how dPCA reveals structure within the brain’s high-dimensional activity—and helps uncover the code behind memory, emotion, and thought."
   ]
  },
  {
   "cell_type": "markdown",
   "id": "e8a1edf5",
   "metadata": {},
   "source": [
    "## II. Introduction & Background\n",
    "\n",
    "### A. Prior Work\n",
    "\n",
    "Neuroscientists have long tried to decode neural activity that reflects more than one thought, feeling, or action at a time. In high-level brain areas like the prefrontal cortex and medial temporal lobe, neurons rarely respond to a single variable. Instead, they show **mixed selectivity**—responding to combinations of stimulus, memory, emotion, and time (*Rigotti et al., 2013; Fusi et al., 2016*).\n",
    "\n",
    "This presents a challenge: traditional dimensionality reduction methods like **principal component analysis (PCA)** compress the data based on total variance but don’t distinguish between signals tied to specific aspects of a task (*Churchland et al., 2012; Machens et al., 2010; Cunningham & Yu, 2014*).\n",
    "\n",
    "### B. The Method and Paper\n",
    "\n",
    "To address this, *Kobak et al. (2016)* introduced **demixed principal component analysis (dPCA)**. Unlike PCA, which mixes all sources of variance, dPCA incorporates **task variables** directly into the analysis. It finds patterns in the data that are tied to specific things the subject is doing or experiencing—like what stimulus they saw, whether they remembered it, or how they responded.\n",
    "\n",
    "In practice, this means we can separate out the activity related to different task variables, even if they overlap in time or space. dPCA gives us a clearer picture of what the neural population is doing and why. It doesn’t assume any one neuron is “purely emotional” or “purely about memory,” but instead lets us see how the whole group works together to represent the task. \n",
    "\n",
    "In our project, we use dPCA exactly as the original authors did: to break down population activity into components related to memory, stimulus, decision, and emotion. This lets us ask not just what neurons are active, but what they’re representing at each moment in time.\n",
    "\n",
    "### C. The Scientific Question\n",
    "\n",
    "Across both datasets we analyze, we ask:  \n",
    "**How does neural population activity encode different task variables—whether sensory, cognitive, or emotional—over time?**\n",
    "\n",
    "We focus on demixing the contributions of:\n",
    "- **Memory and stimulus identity** in a monkey working memory task  \n",
    "- **Emotion and memory performance** in a human emotional memory task\n",
    "\n",
    "### D. What’s in Our Project\n",
    "\n",
    "- First, we replicate **Figures 1 and 3 from Kobak et al. (2016)** using the **Romo et al. (1999)** dataset. This includes visualizing average firing rates and identifying dPCA components related to *stimulus*, *decision*, and *condition-independent dynamics* in monkey prefrontal cortex during a frequency discrimination task.  \n",
    "- Then, we apply the same dPCA method to a **novel dataset** from **Fetterhoff et al. (2024)**, which recorded intracranial spiking activity from the human medial temporal lobe during an *emotional memory task*.  \n",
    "- Our goal is to isolate population components corresponding to **emotion**, **memory**, and their **interaction** during both encoding and retrieval."
   ]
  },
  {
   "cell_type": "markdown",
   "id": "9d0ac10c",
   "metadata": {},
   "source": [
    "## VI. Feedback Rebuttal\n",
    "\n",
    "There were no comments requiring revision from the proposal stage."
   ]
  },
  {
   "cell_type": "markdown",
   "id": "fea34d74",
   "metadata": {},
   "source": [
    "## VII. Contributions and Signature of Academic Honesty\n",
    "\n",
    "### A. Contributions\n",
    "\n",
    "- **Yolanda** developed the dPCA data processing and analysis pipeline in Python and wrote the final blog post report.  \n",
    "- **Alyssa** and **Nicole** were responsible for preprocessing the raw neural data.\n",
    "\n",
    "### B. Use of Generative AI\n",
    "\n",
    "During the preparation of this work, the authors used **ChatGPT (OpenAI)** to assist with editing for spelling, grammar, and interpreting MATLAB code. All output was reviewed and edited by the authors, who take full responsibility for the final content.\n",
    "\n",
    "### C. Statement of Academic Honesty\n",
    "\n",
    "> “The work herein is original and my own, and my claims are truthful as far as I understand. <br>\n",
    "I checked all generative AI results that I used for truthfulness, and I can explain every line of code that we used.”\n",
    "\n",
    "<img src=\"signature.png\" alt=\"Signatures of Alyssa, Yolanda, and Nicole\" style=\"width:40%; max-width:700px;\">"
   ]
  },
  {
   "cell_type": "markdown",
   "id": "95ae2030",
   "metadata": {},
   "source": [
    "### References\n",
    "\n",
    "- Churchland, M. M., Cunningham, J. P., Kaufman, M. T., Foster, J. D., Nuyujukian, P., Ryu, S. I., & Shenoy, K. V. (2012). Neural population dynamics during reaching. *Nature*, 487(7405), 51–56. https://doi.org/10.1038/nature11129\n",
    "\n",
    "- Cunningham, J. P., & Yu, B. M. (2014). Dimensionality reduction for large-scale neural recordings. *Nature Neuroscience*, 17(11), 1500–1509. https://doi.org/10.1038/nn.3776\n",
    "\n",
    "- Fetterhoff, D., Costa, M., Hellerstedt, R., Johannessen, R., Imbach, L., Sarnthein, J., & Strange, B. A. (2024). Neuronal population representation of human emotional memory. *Cell Reports*, 43(4), 114071. https://doi.org/10.1016/j.celrep.2024.114071\n",
    "\n",
    "- Fusi, S., Miller, E. K., & Rigotti, M. (2016). Why neurons mix: High dimensionality for higher cognition. *Current Opinion in Neurobiology*, 37, 66–74. https://doi.org/10.1016/j.conb.2016.01.010\n",
    "\n",
    "- Kobak, D., Brendel, W., Constantinidis, C., Feierstein, C. E., Kepecs, A., Mainen, Z. F., Qi, X.-L., Romo, R., Uchida, N., & Machens, C. K. (2016). Demixed principal component analysis of neural population data. *eLife*, 5, e10989. https://doi.org/10.7554/eLife.10989\n",
    "\n",
    "- Machens, C. K., Romo, R., & Brody, C. D. (2010). Functional, but not anatomical, separation of “what” and “when” in prefrontal cortex. *Journal of Neuroscience*, 30(1), 350–360. https://doi.org/10.1523/JNEUROSCI.3276-09.2010\n",
    "\n",
    "- Rigotti, M., Barak, O., Warden, M. R., Wang, X.-J., Daw, N. D., Miller, E. K., & Fusi, S. (2013). The importance of mixed selectivity in complex cognitive tasks. *Nature*, 497(7451), 585–590. https://doi.org/10.1038/nature12160\n",
    "\n",
    "- Romo, R., Brody, C. D., Hernández, A., & Lemus, L. (1999). Neuronal correlates of parametric working memory in the prefrontal cortex. *Nature*, 399(6735), 470–473. https://doi.org/10.1038/20939"
   ]
  },
  {
   "cell_type": "markdown",
   "id": "0921b03d",
   "metadata": {},
   "source": []
  }
 ],
 "metadata": {
  "language_info": {
   "name": "python"
  }
 },
 "nbformat": 4,
 "nbformat_minor": 5
}
